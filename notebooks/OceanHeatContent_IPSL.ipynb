{
 "cells": [
  {
   "cell_type": "code",
   "execution_count": null,
   "id": "tight-bench",
   "metadata": {},
   "outputs": [],
   "source": [
    "from glob import glob\n",
    "import xarray as xr\n",
    "import cftime\n",
    "import nc_time_axis\n",
    "import numpy as np\n",
    "import matplotlib.pyplot as plt"
   ]
  },
  {
   "cell_type": "markdown",
   "id": "headed-shade",
   "metadata": {},
   "source": [
    "## Read the IPSL Data"
   ]
  },
  {
   "cell_type": "code",
   "execution_count": null,
   "id": "coated-budget",
   "metadata": {},
   "outputs": [],
   "source": [
    "IPSL_Omon = '/archive/uda/CMIP6/CMIP/IPSL/IPSL-CM6A-LR/historical/r10i1p1f1/Omon'\n",
    "IPSL_Ofx = '/archive/uda/CMIP6/CMIP/IPSL/IPSL-CM6A-LR/historical/r10i1p1f1/Ofx'\n",
    "IPSL_thetao = f'{IPSL_Omon}/thetao/gn/v20180803'\n",
    "IPSL_areacello = f'{IPSL_Ofx}/areacello/gn/v20180803'"
   ]
  },
  {
   "cell_type": "code",
   "execution_count": null,
   "id": "statistical-reviewer",
   "metadata": {},
   "outputs": [],
   "source": [
    "filelist = glob(f'{IPSL_thetao}/*.nc')\n",
    "filelist1 = glob(f'{IPSL_areacello}/*.nc')"
   ]
  },
  {
   "cell_type": "code",
   "execution_count": null,
   "id": "divided-sister",
   "metadata": {},
   "outputs": [],
   "source": [
    "filelist,filelist1"
   ]
  },
  {
   "cell_type": "code",
   "execution_count": null,
   "id": "periodic-superintendent",
   "metadata": {},
   "outputs": [],
   "source": [
    "# It seems that if I don't specify chunks as they exist in the netcdf file (ncdump -sh file | grep -i chunk)\n",
    "# open_mfdataset uses the size of the file as chunk. Big memory problems ensue...\n",
    "IPSL_T = xr.open_mfdataset(filelist, chunks={'time': 1, 'olevel': 75, 'y': 332, 'x': 362})\n",
    "IPSL_A = xr.open_mfdataset(filelist1, chunks={'y': 332, 'x': 362})"
   ]
  },
  {
   "cell_type": "code",
   "execution_count": null,
   "id": "available-sheep",
   "metadata": {},
   "outputs": [],
   "source": [
    "IPSL_T"
   ]
  },
  {
   "cell_type": "code",
   "execution_count": null,
   "id": "divine-witch",
   "metadata": {},
   "outputs": [],
   "source": [
    "IPSL_A"
   ]
  },
  {
   "cell_type": "code",
   "execution_count": null,
   "id": "disciplinary-joseph",
   "metadata": {},
   "outputs": [],
   "source": [
    "# IPSL_A['areacello'].attrs.update({'coordinates': 'nav_lon nav_lat'})"
   ]
  },
  {
   "cell_type": "code",
   "execution_count": null,
   "id": "female-junction",
   "metadata": {},
   "outputs": [],
   "source": [
    "# IPSL_A.drop(['nav_lat nav_lon'])"
   ]
  },
  {
   "cell_type": "markdown",
   "id": "equal-chorus",
   "metadata": {},
   "source": [
    "### Calculate volcello "
   ]
  },
  {
   "cell_type": "code",
   "execution_count": null,
   "id": "dominican-hindu",
   "metadata": {},
   "outputs": [],
   "source": [
    "olevel_diff = IPSL_T['olevel_bounds'].diff('axis_nbounds').squeeze()"
   ]
  },
  {
   "cell_type": "code",
   "execution_count": null,
   "id": "amber-deposit",
   "metadata": {},
   "outputs": [],
   "source": [
    "volcello = olevel_diff*IPSL_A['areacello']"
   ]
  },
  {
   "cell_type": "code",
   "execution_count": null,
   "id": "elder-night",
   "metadata": {},
   "outputs": [],
   "source": [
    "volcello1 = olevel_diff * IPSL_A['area']"
   ]
  },
  {
   "cell_type": "code",
   "execution_count": null,
   "id": "parental-proceeding",
   "metadata": {},
   "outputs": [],
   "source": [
    "volcello"
   ]
  },
  {
   "cell_type": "code",
   "execution_count": null,
   "id": "occupational-insulin",
   "metadata": {},
   "outputs": [],
   "source": [
    "volcello1"
   ]
  },
  {
   "cell_type": "markdown",
   "id": "consecutive-foster",
   "metadata": {},
   "source": [
    "### Calculate OHC "
   ]
  },
  {
   "cell_type": "code",
   "execution_count": null,
   "id": "automatic-familiar",
   "metadata": {},
   "outputs": [],
   "source": [
    "OHC = 3992 * 1025 * IPSL_T['thetao'] * volcello1"
   ]
  },
  {
   "cell_type": "code",
   "execution_count": null,
   "id": "sharp-illinois",
   "metadata": {},
   "outputs": [],
   "source": [
    "OHC"
   ]
  },
  {
   "cell_type": "code",
   "execution_count": null,
   "id": "subsequent-familiar",
   "metadata": {},
   "outputs": [],
   "source": [
    "global_OHC_upper700m = OHC.sel(olevel=slice(0,700)).sum(dim=('olevel', 'y', 'x'))"
   ]
  },
  {
   "cell_type": "code",
   "execution_count": null,
   "id": "common-damages",
   "metadata": {},
   "outputs": [],
   "source": [
    "global_OHC_upper2000m = OHC.sel(olevel=slice(0,2000)).sum(dim=('olevel', 'y', 'x'))"
   ]
  },
  {
   "cell_type": "code",
   "execution_count": null,
   "id": "italic-durham",
   "metadata": {},
   "outputs": [],
   "source": [
    "global_OHC_2000below = OHC.sel(olevel=slice(2000,7000)).sum(dim=('olevel', 'y', 'x'))"
   ]
  },
  {
   "cell_type": "code",
   "execution_count": null,
   "id": "institutional-ground",
   "metadata": {},
   "outputs": [],
   "source": [
    "global_OHC = OHC.sum(dim=('olevel', 'y', 'x'))"
   ]
  },
  {
   "cell_type": "code",
   "execution_count": null,
   "id": "promotional-accused",
   "metadata": {},
   "outputs": [],
   "source": [
    "global_OHC_level = OHC.sum(dim=('y', 'x'))"
   ]
  },
  {
   "cell_type": "markdown",
   "id": "sensitive-channel",
   "metadata": {},
   "source": [
    "## Go Fast With Dask"
   ]
  },
  {
   "cell_type": "code",
   "execution_count": null,
   "id": "fleet-stretch",
   "metadata": {},
   "outputs": [],
   "source": [
    "from dask.distributed import Client\n",
    "\n",
    "client = Client(\"tcp://140.208.147.155:42776\")\n",
    "client"
   ]
  },
  {
   "cell_type": "code",
   "execution_count": null,
   "id": "under-cruise",
   "metadata": {},
   "outputs": [],
   "source": [
    "%time _ = global_OHC_upper700m.load()"
   ]
  },
  {
   "cell_type": "code",
   "execution_count": null,
   "id": "assured-joseph",
   "metadata": {},
   "outputs": [],
   "source": [
    "%time _ = global_OHC_upper2000m.load()"
   ]
  },
  {
   "cell_type": "code",
   "execution_count": null,
   "id": "appreciated-henry",
   "metadata": {},
   "outputs": [],
   "source": [
    "%time _ = global_OHC_2000below.load()"
   ]
  },
  {
   "cell_type": "code",
   "execution_count": null,
   "id": "proud-lesbian",
   "metadata": {},
   "outputs": [],
   "source": [
    "%time _ = global_OHC.load()"
   ]
  },
  {
   "cell_type": "code",
   "execution_count": null,
   "id": "sacred-washington",
   "metadata": {},
   "outputs": [],
   "source": [
    "%time _ = global_OHC_level.load()"
   ]
  },
  {
   "cell_type": "markdown",
   "id": "american-moldova",
   "metadata": {},
   "source": [
    "## Compare with Zanna et al. "
   ]
  },
  {
   "cell_type": "code",
   "execution_count": null,
   "id": "established-consent",
   "metadata": {},
   "outputs": [],
   "source": [
    "Zanna = xr.open_dataset('/net2/rnd/Zanna_2018/OHC_GF_1870_2018.nc')\n",
    "Zanna = Zanna.rename({'time (starting 1870)': 'time'})\n",
    "Zanna = Zanna.set_coords(['time'])"
   ]
  },
  {
   "cell_type": "code",
   "execution_count": null,
   "id": "adaptive-perth",
   "metadata": {},
   "outputs": [],
   "source": [
    "dates = []\n",
    "for year in Zanna['time'].values:\n",
    "    dates.append(cftime.DatetimeNoLeap(year, 7, 16, hour=12))"
   ]
  },
  {
   "cell_type": "code",
   "execution_count": null,
   "id": "insured-deviation",
   "metadata": {},
   "outputs": [],
   "source": [
    "Zanna['cftime'] = xr.DataArray(np.array(dates), dims='cftime')\n",
    "Zanna = Zanna.set_coords(['cftime'])"
   ]
  },
  {
   "cell_type": "code",
   "execution_count": null,
   "id": "desirable-percentage",
   "metadata": {},
   "outputs": [],
   "source": [
    "Zanna"
   ]
  },
  {
   "cell_type": "code",
   "execution_count": null,
   "id": "perceived-enzyme",
   "metadata": {},
   "outputs": [],
   "source": [
    "def anom_yearly_avg(da):\n",
    "    # compute yearly values\n",
    "    yearly = da.groupby(da.time.dt.year).mean(dim='time')\n",
    "    # anomamly to 1870 like in Zanna et al.\n",
    "    anom = yearly - yearly.sel(year=1870)\n",
    "    return anom\n",
    "\n",
    "gOHCanom_upper700m_annual = anom_yearly_avg(global_OHC_upper700m)\n",
    "gOHCanom_upper2000m_annual = anom_yearly_avg(global_OHC_upper2000m)\n",
    "gOHCanom_2000below_annual = anom_yearly_avg(global_OHC_2000below)\n",
    "gOHCanom_annual = anom_yearly_avg(global_OHC)"
   ]
  },
  {
   "cell_type": "markdown",
   "id": "difficult-charleston",
   "metadata": {},
   "source": [
    "## Plot the results"
   ]
  },
  {
   "cell_type": "code",
   "execution_count": null,
   "id": "grateful-mexico",
   "metadata": {},
   "outputs": [],
   "source": [
    "plt.figure()\n",
    "ax = plt.axes()\n",
    "(gOHCanom_upper700m_annual / 1e21).plot(ax=ax, label='IPSL', color='k')\n",
    "Zanna['OHC_700m'].plot(ax=ax, label='Zanna', color='r')\n",
    "plt.legend(fontsize=16)\n",
    "plt.title('OHC upper 700m')\n",
    "plt.grid()"
   ]
  },
  {
   "cell_type": "code",
   "execution_count": null,
   "id": "fleet-commissioner",
   "metadata": {},
   "outputs": [],
   "source": [
    "plt.figure()\n",
    "ax = plt.axes()\n",
    "(gOHCanom_upper2000m_annual / 1e21).plot(ax=ax, label='IPSL', color='k')\n",
    "Zanna['OHC_2000m'].plot(ax=ax, label='Zanna', color='r')\n",
    "plt.legend(fontsize=16)\n",
    "plt.title('OHC upper 2000m')\n",
    "plt.grid()"
   ]
  },
  {
   "cell_type": "code",
   "execution_count": null,
   "id": "gross-thomson",
   "metadata": {},
   "outputs": [],
   "source": [
    "plt.figure()\n",
    "ax = plt.axes()\n",
    "(gOHCanom_2000below_annual / 1e21).plot(ax=ax, label='IPSL', color='k')\n",
    "Zanna['OHC_below_2000m'].plot(ax=ax, label='Zanna', color='r')\n",
    "plt.legend(fontsize=16)\n",
    "plt.title('OHC below 2000m')\n",
    "plt.grid()"
   ]
  },
  {
   "cell_type": "code",
   "execution_count": null,
   "id": "limited-pathology",
   "metadata": {},
   "outputs": [],
   "source": [
    "plt.figure()\n",
    "ax = plt.axes()\n",
    "(gOHCanom_annual / 1e21).plot(ax=ax, label='IPSL', color='k')\n",
    "Zanna['OHC_full_depth'].plot(ax=ax, label='Zanna', color='r')\n",
    "plt.legend(fontsize=16)\n",
    "plt.title('OHC full depth')\n",
    "plt.grid()"
   ]
  },
  {
   "cell_type": "markdown",
   "id": "optional-brother",
   "metadata": {},
   "source": [
    "### All in one"
   ]
  },
  {
   "cell_type": "code",
   "execution_count": null,
   "id": "boolean-beaver",
   "metadata": {},
   "outputs": [],
   "source": [
    "fig, axs = plt.subplots(nrows=2, ncols=2, figsize=[10,10])\n",
    "\n",
    "(gOHCanom_upper700m_annual / 1e21).plot(ax=axs[0,0], label='IPSLhist', color='k')\n",
    "Zanna['OHC_700m'].plot(ax=axs[0,0], label='Zanna', color='r')\n",
    "axs[0,0].legend(fontsize=16)\n",
    "axs[0,0].set_title('OHC [ZJ] upper 700m')\n",
    "axs[0,0].set_xlabel(\"\")\n",
    "axs[0,0].set_ylabel(\"\")\n",
    "axs[0,0].grid()\n",
    "\n",
    "(gOHCanom_upper2000m_annual / 1e21).plot(ax=axs[0,1], label='IPSLhist', color='k')\n",
    "Zanna['OHC_2000m'].plot(ax=axs[0,1], label='Zanna', color='r')\n",
    "axs[0,1].legend(fontsize=16)\n",
    "axs[0,1].set_title('OHC [ZJ] upper 2000m')\n",
    "axs[0,1].set_xlabel(\"\")\n",
    "axs[0,1].set_ylabel(\"\")\n",
    "axs[0,1].grid()\n",
    "\n",
    "(gOHCanom_2000below_annual / 1e21).plot(ax=axs[1,0], label='IPSLhist', color='k')\n",
    "Zanna['OHC_below_2000m'].plot(ax=axs[1,0], label='Zanna', color='r')\n",
    "axs[1,0].legend(fontsize=16)\n",
    "axs[1,0].set_title('OHC [ZJ] below 2000m')\n",
    "axs[1,0].set_xlabel(\"\")\n",
    "axs[1,0].set_ylabel(\"\")\n",
    "axs[1,0].grid()\n",
    "\n",
    "(gOHCanom_annual / 1e21).plot(ax=axs[1,1], label='IPSLhist', color='k')\n",
    "Zanna['OHC_full_depth'].plot(ax=axs[1,1], label='Zanna', color='r')\n",
    "axs[1,1].legend(fontsize=16)\n",
    "axs[1,1].set_title('OHC [ZJ] full depth')\n",
    "axs[1,1].set_xlabel(\"\")\n",
    "axs[1,1].set_ylabel(\"\")\n",
    "axs[1,1].grid()"
   ]
  }
 ],
 "metadata": {
  "kernelspec": {
   "display_name": "Python 3",
   "language": "python",
   "name": "python3"
  },
  "language_info": {
   "codemirror_mode": {
    "name": "ipython",
    "version": 3
   },
   "file_extension": ".py",
   "mimetype": "text/x-python",
   "name": "python",
   "nbconvert_exporter": "python",
   "pygments_lexer": "ipython3",
   "version": "3.8.6"
  }
 },
 "nbformat": 4,
 "nbformat_minor": 5
}
