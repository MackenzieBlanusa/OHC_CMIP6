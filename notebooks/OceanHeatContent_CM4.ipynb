{
 "cells": [
  {
   "cell_type": "code",
   "execution_count": null,
   "metadata": {},
   "outputs": [],
   "source": [
    "from glob import glob\n",
    "import xarray as xr\n",
    "import cftime\n",
    "import nc_time_axis\n",
    "import numpy as np\n",
    "import matplotlib.pyplot as plt"
   ]
  },
  {
   "cell_type": "markdown",
   "metadata": {},
   "source": [
    "## Read the CM4 data"
   ]
  },
  {
   "cell_type": "code",
   "execution_count": null,
   "metadata": {},
   "outputs": [],
   "source": [
    "CM4_Omon = '/archive/uda/CMIP6/CMIP/NOAA-GFDL/GFDL-CM4/historical/r1i1p1f1/Omon'\n",
    "CM4_thetao = f'{CM4_Omon}/thetao/gr/v20180701'\n",
    "CM4_volcello = f'{CM4_Omon}/volcello/gr/v20180701'"
   ]
  },
  {
   "cell_type": "code",
   "execution_count": null,
   "metadata": {},
   "outputs": [],
   "source": [
    "filelist = glob(f'{CM4_thetao}/*.nc')\n",
    "filelist.append(glob(f'{CM4_volcello}/*.nc'))"
   ]
  },
  {
   "cell_type": "code",
   "execution_count": null,
   "metadata": {},
   "outputs": [],
   "source": [
    "# It seems that if I don't specify chunks as they exist in the netcdf file (ncdump -sh file | grep -i chunk)\n",
    "# open_mfdataset uses the size of the file as chunk. Big memory problems ensue...\n",
    "CM4_T = xr.open_mfdataset(filelist, chunks={'time': 1, 'lev': 18, 'lat': 90, 'lon': 180})"
   ]
  },
  {
   "cell_type": "code",
   "execution_count": null,
   "metadata": {},
   "outputs": [],
   "source": [
    "CM4_T"
   ]
  },
  {
   "cell_type": "code",
   "execution_count": null,
   "metadata": {},
   "outputs": [],
   "source": [
    "CM4_T = CM4_T.chunk({'time': 1, 'lev': 35, 'lat': 180, 'lon': 360})"
   ]
  },
  {
   "cell_type": "code",
   "execution_count": null,
   "metadata": {},
   "outputs": [],
   "source": [
    "CM4_T"
   ]
  },
  {
   "cell_type": "markdown",
   "metadata": {},
   "source": [
    "## Compute Ocean Heat Content"
   ]
  },
  {
   "cell_type": "code",
   "execution_count": null,
   "metadata": {},
   "outputs": [],
   "source": [
    "OHC = 3992 * 1025 * CM4_T['thetao'] * CM4_T['volcello']"
   ]
  },
  {
   "cell_type": "code",
   "execution_count": null,
   "metadata": {},
   "outputs": [],
   "source": [
    "OHC"
   ]
  },
  {
   "cell_type": "code",
   "execution_count": null,
   "metadata": {},
   "outputs": [],
   "source": [
    "global_OHC_upper700m = OHC.sel(lev=slice(0,700)).sum(dim=('lev', 'lat', 'lon'))"
   ]
  },
  {
   "cell_type": "code",
   "execution_count": null,
   "metadata": {},
   "outputs": [],
   "source": [
    "global_OHC_upper2000m = OHC.sel(lev=slice(0,2000)).sum(dim=('lev', 'lat', 'lon'))"
   ]
  },
  {
   "cell_type": "code",
   "execution_count": null,
   "metadata": {},
   "outputs": [],
   "source": [
    "global_OHC_2000below = OHC.sel(lev=slice(2000,7000)).sum(dim=('lev', 'lat', 'lon'))"
   ]
  },
  {
   "cell_type": "code",
   "execution_count": null,
   "metadata": {},
   "outputs": [],
   "source": [
    "global_OHC = OHC.sum(dim=('lev', 'lat', 'lon'))"
   ]
  },
  {
   "cell_type": "code",
   "execution_count": null,
   "metadata": {},
   "outputs": [],
   "source": [
    "global_OHC_level = OHC.sum(dim=('lat', 'lon'))"
   ]
  },
  {
   "cell_type": "markdown",
   "metadata": {},
   "source": [
    "## Go fast with dask cluster"
   ]
  },
  {
   "cell_type": "code",
   "execution_count": null,
   "metadata": {},
   "outputs": [],
   "source": [
    "%time _ = global_OHC_upper700m.load()"
   ]
  },
  {
   "cell_type": "code",
   "execution_count": null,
   "metadata": {},
   "outputs": [],
   "source": [
    "# chunks =  (12, 35, 180, 360) -> Wall time: 3min 15s  ! cost of concat netcdf chunks?\n",
    "# chunks =  (1, 35, 180, 360) -> Wall time: 2min 29s\n",
    "# chunks =  (1, 1, 180, 360) -> Wall time: 5min 53s ! chunks too small, graph takes forever to build"
   ]
  },
  {
   "cell_type": "code",
   "execution_count": null,
   "metadata": {},
   "outputs": [],
   "source": [
    "%time _ = global_OHC_upper2000m.load()"
   ]
  },
  {
   "cell_type": "code",
   "execution_count": null,
   "metadata": {},
   "outputs": [],
   "source": [
    "%time _ = global_OHC_2000below.load()"
   ]
  },
  {
   "cell_type": "code",
   "execution_count": null,
   "metadata": {},
   "outputs": [],
   "source": [
    "%time _ = global_OHC.load()"
   ]
  },
  {
   "cell_type": "code",
   "execution_count": null,
   "metadata": {},
   "outputs": [],
   "source": [
    "%time _ = global_OHC_level.load()"
   ]
  },
  {
   "cell_type": "markdown",
   "metadata": {},
   "source": [
    "## Compare with Zanna et al. paper"
   ]
  },
  {
   "cell_type": "code",
   "execution_count": null,
   "metadata": {},
   "outputs": [],
   "source": [
    "Zanna = xr.open_dataset('/net2/rnd/Zanna_2018/OHC_GF_1870_2018.nc')\n",
    "Zanna = Zanna.rename({'time (starting 1870)': 'time'})\n",
    "Zanna = Zanna.set_coords(['time'])"
   ]
  },
  {
   "cell_type": "code",
   "execution_count": null,
   "metadata": {},
   "outputs": [],
   "source": [
    "dates = []\n",
    "for year in Zanna['time'].values:\n",
    "    dates.append(cftime.DatetimeNoLeap(year, 7, 16, hour=12))"
   ]
  },
  {
   "cell_type": "code",
   "execution_count": null,
   "metadata": {},
   "outputs": [],
   "source": [
    "Zanna['cftime'] = xr.DataArray(np.array(dates), dims='cftime')\n",
    "Zanna = Zanna.set_coords(['cftime'])"
   ]
  },
  {
   "cell_type": "code",
   "execution_count": null,
   "metadata": {},
   "outputs": [],
   "source": [
    "Zanna"
   ]
  },
  {
   "cell_type": "code",
   "execution_count": null,
   "metadata": {},
   "outputs": [],
   "source": [
    "def anom_yearly_avg(da):\n",
    "    # compute yearly values\n",
    "    yearly = da.groupby(da.time.dt.year).mean(dim='time')\n",
    "    # anomamly to 1870 like in Zanna et al.\n",
    "    anom = yearly - yearly.sel(year=1870)\n",
    "    return anom\n",
    "\n",
    "gOHCanom_upper700m_annual = anom_yearly_avg(global_OHC_upper700m)\n",
    "gOHCanom_upper2000m_annual = anom_yearly_avg(global_OHC_upper2000m)\n",
    "gOHCanom_2000below_annual = anom_yearly_avg(global_OHC_2000below)\n",
    "gOHCanom_annual = anom_yearly_avg(global_OHC)"
   ]
  },
  {
   "cell_type": "markdown",
   "metadata": {},
   "source": [
    "## Plot the results"
   ]
  },
  {
   "cell_type": "code",
   "execution_count": null,
   "metadata": {},
   "outputs": [],
   "source": [
    "plt.figure()\n",
    "ax = plt.axes()\n",
    "(gOHCanom_upper700m_annual / 1e21).plot(ax=ax, label='CM4', color='k')\n",
    "Zanna['OHC_700m'].plot(ax=ax, label='Zanna', color='r')\n",
    "plt.legend(fontsize=16)\n",
    "plt.title('OHC upper 700m')\n",
    "plt.grid()"
   ]
  },
  {
   "cell_type": "code",
   "execution_count": null,
   "metadata": {},
   "outputs": [],
   "source": [
    "plt.figure()\n",
    "ax = plt.axes()\n",
    "(gOHCanom_upper700m / 1e21).plot(ax=ax, label='CM4 monthly', color='k')\n",
    "Zanna['OHC_700m_cf'] = xr.DataArray(Zanna['OHC_700m'].values, dims=('cftime'))\n",
    "Zanna['OHC_700m_cf'].plot(ax=ax, label='Zanna', color='r')\n",
    "plt.legend(fontsize=16)\n",
    "plt.title('OHC upper 700m')\n",
    "plt.grid()"
   ]
  },
  {
   "cell_type": "code",
   "execution_count": null,
   "metadata": {},
   "outputs": [],
   "source": [
    "plt.figure()\n",
    "ax = plt.axes()\n",
    "(gOHCanom_upper2000m_annual / 1e21).plot(ax=ax, label='CM4', color='k')\n",
    "Zanna['OHC_2000m'].plot(ax=ax, label='Zanna', color='r')\n",
    "plt.legend(fontsize=16)\n",
    "plt.title('OHC upper 2000m')\n",
    "plt.grid()"
   ]
  },
  {
   "cell_type": "code",
   "execution_count": null,
   "metadata": {},
   "outputs": [],
   "source": [
    "plt.figure()\n",
    "ax = plt.axes()\n",
    "(gOHCanom_2000below_annual / 1e21).plot(ax=ax, label='CM4', color='k')\n",
    "Zanna['OHC_below_2000m'].plot(ax=ax, label='Zanna', color='r')\n",
    "plt.legend(fontsize=16)\n",
    "plt.title('OHC below 2000m')\n",
    "plt.grid()"
   ]
  },
  {
   "cell_type": "code",
   "execution_count": null,
   "metadata": {},
   "outputs": [],
   "source": [
    "plt.figure()\n",
    "ax = plt.axes()\n",
    "(gOHCanom_annual / 1e21).plot(ax=ax, label='CM4', color='k')\n",
    "Zanna['OHC_full_depth'].plot(ax=ax, label='Zanna', color='r')\n",
    "plt.legend(fontsize=16)\n",
    "plt.title('OHC full depth')\n",
    "plt.grid()"
   ]
  },
  {
   "cell_type": "markdown",
   "metadata": {},
   "source": [
    "### All in one"
   ]
  },
  {
   "cell_type": "code",
   "execution_count": null,
   "metadata": {},
   "outputs": [],
   "source": [
    "fig, axs = plt.subplots(nrows=2, ncols=2, figsize=[10,10])\n",
    "\n",
    "(gOHCanom_upper700m_annual / 1e21).plot(ax=axs[0,0], label='CM4hist', color='k')\n",
    "Zanna['OHC_700m'].plot(ax=axs[0,0], label='Zanna', color='r')\n",
    "axs[0,0].legend(fontsize=16)\n",
    "axs[0,0].set_title('OHC [ZJ] upper 700m')\n",
    "axs[0,0].set_xlabel(\"\")\n",
    "axs[0,0].set_ylabel(\"\")\n",
    "axs[0,0].grid()\n",
    "\n",
    "(gOHCanom_upper2000m_annual / 1e21).plot(ax=axs[0,1], label='CM4hist', color='k')\n",
    "Zanna['OHC_2000m'].plot(ax=axs[0,1], label='Zanna', color='r')\n",
    "axs[0,1].legend(fontsize=16)\n",
    "axs[0,1].set_title('OHC [ZJ] upper 2000m')\n",
    "axs[0,1].set_xlabel(\"\")\n",
    "axs[0,1].set_ylabel(\"\")\n",
    "axs[0,1].grid()\n",
    "\n",
    "(gOHCanom_2000below_annual / 1e21).plot(ax=axs[1,0], label='CM4hist', color='k')\n",
    "Zanna['OHC_below_2000m'].plot(ax=axs[1,0], label='Zanna', color='r')\n",
    "axs[1,0].legend(fontsize=16)\n",
    "axs[1,0].set_title('OHC [ZJ] below 2000m')\n",
    "axs[1,0].set_xlabel(\"\")\n",
    "axs[1,0].set_ylabel(\"\")\n",
    "axs[1,0].grid()\n",
    "\n",
    "(gOHCanom_annual / 1e21).plot(ax=axs[1,1], label='CM4hist', color='k')\n",
    "Zanna['OHC_full_depth'].plot(ax=axs[1,1], label='Zanna', color='r')\n",
    "axs[1,1].legend(fontsize=16)\n",
    "axs[1,1].set_title('OHC [ZJ] full depth')\n",
    "axs[1,1].set_xlabel(\"\")\n",
    "axs[1,1].set_ylabel(\"\")\n",
    "axs[1,1].grid()"
   ]
  }
 ],
 "metadata": {
  "kernelspec": {
   "display_name": "Mackenzie",
   "language": "python",
   "name": "mackenzie"
  },
  "language_info": {
   "codemirror_mode": {
    "name": "ipython",
    "version": 3
   },
   "file_extension": ".py",
   "mimetype": "text/x-python",
   "name": "python",
   "nbconvert_exporter": "python",
   "pygments_lexer": "ipython3",
   "version": "3.8.6"
  }
 },
 "nbformat": 4,
 "nbformat_minor": 4
}
